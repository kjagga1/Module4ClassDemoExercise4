{
 "cells": [
  {
   "cell_type": "markdown",
   "metadata": {},
   "source": [
    "### Module 4 Exercise"
   ]
  },
  {
   "cell_type": "markdown",
   "metadata": {},
   "source": [
    "1. How many occurences of \"row\" is in \"Row, row, row your boat. Gently down the stream. Merrily, merrily, merrily, merrily. Life is but a dream. Row, row, row your boat. Gently up the creek.\" "
   ]
  },
  {
   "cell_type": "code",
   "execution_count": 68,
   "metadata": {},
   "outputs": [
    {
     "name": "stdout",
     "output_type": "stream",
     "text": [
      "4\n"
     ]
    }
   ],
   "source": [
    "phrase = \"Row, row, row your boat. Gently down the stream. Merrily, merrily, merrily, merrily. Life is but a dream. Row, row, row your boat. Gently up the creek.\"\n",
    "print(phrase.count(\"row\"))"
   ]
  },
  {
   "cell_type": "markdown",
   "metadata": {},
   "source": [
    "2. Ask a user for a name, color, and an animal.  <br>\n",
    "Then using string format method per each line, show following:<br>\n",
    "<b><i>name</i></b> had a little <b><i>animal</i></b>. <br>\n",
    "It was <b><i>color</i></b> as snow. <br>\n",
    "And everywhere that <b><i>name</i></b> went, the <b><i>animal</i></b> was sure to go."
   ]
  },
  {
   "cell_type": "code",
   "execution_count": 31,
   "metadata": {},
   "outputs": [
    {
     "name": "stdout",
     "output_type": "stream",
     "text": [
      "Enter a name: Kiran\n",
      "Enter a color: Red\n",
      "Enter an animal: Leopard \n"
     ]
    }
   ],
   "source": [
    "#Ask a user for a name, color, and a animal.\n",
    "name = input(\"Enter a name: \")\n",
    "color = input(\"Enter a color: \")\n",
    "animal = input(\"Enter an animal: \")"
   ]
  },
  {
   "cell_type": "code",
   "execution_count": 39,
   "metadata": {},
   "outputs": [
    {
     "name": "stdout",
     "output_type": "stream",
     "text": [
      "Kiran had a little Leopard .\n",
      "It was Red as Rose.\n",
      "And everywhere Kiran went, the Leopard  was sure to go.\n"
     ]
    }
   ],
   "source": [
    "print(\"{} had a little {}.\".format(name, animal))\n",
    "print(\"It was {} as Rose.\".format(color))\n",
    "print(\"And everywhere {} went, the {} was sure to go.\".format(name, animal))"
   ]
  },
  {
   "cell_type": "markdown",
   "metadata": {},
   "source": [
    "3. Print 3.14159 in a scientific number notation "
   ]
  },
  {
   "cell_type": "code",
   "execution_count": 7,
   "metadata": {},
   "outputs": [
    {
     "name": "stdout",
     "output_type": "stream",
     "text": [
      "3.141590e+00\n"
     ]
    }
   ],
   "source": [
    "scientific_notation =\"{:e}\".format(3.14159)\n",
    "print(scientific_notation)"
   ]
  },
  {
   "cell_type": "markdown",
   "metadata": {},
   "source": [
    "4. Print 3.1559 in 3 decimal places"
   ]
  },
  {
   "cell_type": "code",
   "execution_count": 43,
   "metadata": {},
   "outputs": [
    {
     "name": "stdout",
     "output_type": "stream",
     "text": [
      "3.142\n"
     ]
    }
   ],
   "source": [
    "pi = 3.14159\n",
    "print(f\"{pi:.3f}\")"
   ]
  },
  {
   "cell_type": "markdown",
   "metadata": {},
   "source": [
    "5. Print 1589.92341 in a scientific number notation to the power of 3"
   ]
  },
  {
   "cell_type": "code",
   "execution_count": 44,
   "metadata": {},
   "outputs": [
    {
     "name": "stdout",
     "output_type": "stream",
     "text": [
      "1.590e+03\n"
     ]
    }
   ],
   "source": [
    "no = 1589.92341\n",
    "print(f\"{no:.3e}\")"
   ]
  },
  {
   "cell_type": "markdown",
   "metadata": {},
   "source": [
    "6. Convert 39 to a binary number using floor division and mod operators. Then, compare your answer using bin() and int() functions."
   ]
  },
  {
   "cell_type": "code",
   "execution_count": 47,
   "metadata": {},
   "outputs": [
    {
     "name": "stdout",
     "output_type": "stream",
     "text": [
      "19\n",
      "1\n"
     ]
    }
   ],
   "source": [
    "print(39 // 2)\n",
    "print(39 % 2)"
   ]
  },
  {
   "cell_type": "code",
   "execution_count": 48,
   "metadata": {},
   "outputs": [
    {
     "name": "stdout",
     "output_type": "stream",
     "text": [
      "9\n",
      "1\n"
     ]
    }
   ],
   "source": [
    "print(19 // 2)\n",
    "print(19 % 2)"
   ]
  },
  {
   "cell_type": "code",
   "execution_count": 49,
   "metadata": {},
   "outputs": [
    {
     "name": "stdout",
     "output_type": "stream",
     "text": [
      "4\n",
      "1\n"
     ]
    }
   ],
   "source": [
    "print(9 // 2)\n",
    "print(9 % 2)"
   ]
  },
  {
   "cell_type": "code",
   "execution_count": 50,
   "metadata": {},
   "outputs": [
    {
     "name": "stdout",
     "output_type": "stream",
     "text": [
      "2\n",
      "1\n"
     ]
    }
   ],
   "source": [
    "print(4 // 2)\n",
    "print(1 % 2)"
   ]
  },
  {
   "cell_type": "code",
   "execution_count": 51,
   "metadata": {},
   "outputs": [
    {
     "name": "stdout",
     "output_type": "stream",
     "text": [
      "1\n",
      "1\n"
     ]
    }
   ],
   "source": [
    "print(2 // 2)\n",
    "print(1 % 2)"
   ]
  },
  {
   "cell_type": "code",
   "execution_count": 52,
   "metadata": {},
   "outputs": [
    {
     "name": "stdout",
     "output_type": "stream",
     "text": [
      "0\n",
      "1\n"
     ]
    }
   ],
   "source": [
    "print(1 // 2)\n",
    "print(1 % 2)"
   ]
  },
  {
   "cell_type": "code",
   "execution_count": 53,
   "metadata": {},
   "outputs": [
    {
     "name": "stdout",
     "output_type": "stream",
     "text": [
      "0\n",
      "1\n"
     ]
    }
   ],
   "source": [
    "print(0 // 2)\n",
    "print(1 % 2)"
   ]
  },
  {
   "cell_type": "code",
   "execution_count": null,
   "metadata": {},
   "outputs": [],
   "source": []
  },
  {
   "cell_type": "markdown",
   "metadata": {},
   "source": [
    "7. Convert 39 to an octal number using floor division and mod operators. Then, compare your answer using oct() and int() functions."
   ]
  },
  {
   "cell_type": "code",
   "execution_count": 60,
   "metadata": {},
   "outputs": [
    {
     "data": {
      "text/plain": [
       "'0o47'"
      ]
     },
     "execution_count": 60,
     "metadata": {},
     "output_type": "execute_result"
    }
   ],
   "source": [
    "(oct(39))"
   ]
  },
  {
   "cell_type": "code",
   "execution_count": 61,
   "metadata": {},
   "outputs": [
    {
     "data": {
      "text/plain": [
       "39"
      ]
     },
     "execution_count": 61,
     "metadata": {},
     "output_type": "execute_result"
    }
   ],
   "source": [
    "(int(39))"
   ]
  },
  {
   "cell_type": "markdown",
   "metadata": {},
   "source": [
    "8. Convert 39 to a hexadecimal number using floor division and mod operators. Then, compare your answer using hex() and int() functions."
   ]
  },
  {
   "cell_type": "code",
   "execution_count": 62,
   "metadata": {},
   "outputs": [
    {
     "data": {
      "text/plain": [
       "'0x27'"
      ]
     },
     "execution_count": 62,
     "metadata": {},
     "output_type": "execute_result"
    }
   ],
   "source": [
    "hex(39)"
   ]
  },
  {
   "cell_type": "markdown",
   "metadata": {},
   "source": [
    "9. Ask a user for an amount and a tax rate in percentage. Then, display the amount, rate in percentage, calculated tax amount, and the total (amount + tax amount) in one <b>nice</b> formmated print statement."
   ]
  },
  {
   "cell_type": "code",
   "execution_count": 64,
   "metadata": {},
   "outputs": [
    {
     "name": "stdout",
     "output_type": "stream",
     "text": [
      "Enter an amount: 100\n",
      "Enter a tax rate (percentae): 25\n"
     ]
    }
   ],
   "source": [
    "amount = float(input(\"Enter an amount: \"))\n",
    "rate = float(input(\"Enter a tax rate (percentae): \"))"
   ]
  },
  {
   "cell_type": "code",
   "execution_count": 67,
   "metadata": {},
   "outputs": [
    {
     "name": "stdout",
     "output_type": "stream",
     "text": [
      "Amount:\t$100.00\n",
      "Tax:\t$25.00\n",
      "Total:\t$125.00\n"
     ]
    }
   ],
   "source": [
    "tax_amount = amount * (rate/100)\n",
    "total = amount + tax_amount\n",
    "print(f\"Amount:\\t${amount:,.2f}\\nTax:\\t${tax_amount:,.2f}\\nTotal:\\t${total:,.2f}\")"
   ]
  },
  {
   "cell_type": "code",
   "execution_count": null,
   "metadata": {},
   "outputs": [],
   "source": []
  }
 ],
 "metadata": {
  "kernelspec": {
   "display_name": "Python 3",
   "language": "python",
   "name": "python3"
  },
  "language_info": {
   "codemirror_mode": {
    "name": "ipython",
    "version": 3
   },
   "file_extension": ".py",
   "mimetype": "text/x-python",
   "name": "python",
   "nbconvert_exporter": "python",
   "pygments_lexer": "ipython3",
   "version": "3.8.8"
  }
 },
 "nbformat": 4,
 "nbformat_minor": 4
}
